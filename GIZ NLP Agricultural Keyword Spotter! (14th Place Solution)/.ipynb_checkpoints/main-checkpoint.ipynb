{
 "cells": [
  {
   "cell_type": "markdown",
   "metadata": {},
   "source": [
    "# GIZ NLP Agricultural Keyword Spotter! (17th Place Solution)"
   ]
  },
  {
   "cell_type": "markdown",
   "metadata": {},
   "source": [
    "### Environments used\n",
    "* OS - Ubuntu 18.04.5 LTS\n",
    "* Python - 3.7.4\n",
    "* CUDA - 11.1\n",
    "* Libraries from requirements.txt\n",
    "* Trained on one RTX 2060"
   ]
  },
  {
   "cell_type": "code",
   "execution_count": 1,
   "metadata": {
    "colab": {},
    "colab_type": "code",
    "id": "RBYwPyKl2x4s"
   },
   "outputs": [],
   "source": [
    "## For reproducible results.\n",
    "## Results may still not be reproducible if different hardware config is used, or the package versions are changed\n",
    "def random_seed(seed_value):\n",
    "    import random \n",
    "    random.seed(seed_value) # Python\n",
    "    import numpy as np\n",
    "    np.random.seed(seed_value) # cpu vars\n",
    "    import torch\n",
    "    torch.manual_seed(seed_value) # cpu  vars\n",
    "    \n",
    "    if torch.cuda.is_available(): \n",
    "        torch.cuda.manual_seed(seed_value)\n",
    "        torch.cuda.manual_seed_all(seed_value) # gpu vars\n",
    "        torch.backends.cudnn.deterministic = True  #needed\n",
    "        torch.backends.cudnn.benchmark = False\n",
    "import pandas as pd\n",
    "import IPython.display as ipd\n",
    "from fastai2.vision.all import *\n",
    "import librosa\n",
    "from matplotlib import pyplot as plt\n",
    "import numpy as np\n",
    "import random\n",
    "import nlpaug\n",
    "import nlpaug.augmenter.audio as naa\n",
    "import nlpaug.augmenter.spectrogram as nas\n",
    "import warnings\n",
    "from pathlib import PosixPath\n",
    "from audiomentations import Compose, AddGaussianNoise, PitchShift, AddShortNoises, AddBackgroundNoise\n",
    "warnings.filterwarnings(\"ignore\")\n",
    "import gc\n",
    "# matplotlib.rc('image', cmap='Greys')"
   ]
  },
  {
   "cell_type": "markdown",
   "metadata": {},
   "source": [
    "## Resampling input audio files (Pre-processing)\n",
    "credits:https://gist.github.com/pmwaniki/fece16fff8f53ddb33d13df51054ab02"
   ]
  },
  {
   "cell_type": "code",
   "execution_count": 2,
   "metadata": {},
   "outputs": [],
   "source": [
    "def mkdir(file): #creating folders\n",
    "    command = ['mkdir', '-p', os.path.join('wav1/',file.parent)]\n",
    "    subprocess.run(command,stdout=subprocess.PIPE,stdin=subprocess.PIPE)"
   ]
  },
  {
   "cell_type": "code",
   "execution_count": 3,
   "metadata": {},
   "outputs": [],
   "source": [
    "def convert_sr(file):# resampling\n",
    "    command = ['ffmpeg', '-i', os.path.join(file), '-acodec', 'pcm_s16le', '-ac', '1', '-ar', '44100', os.path.join('wav1/',file)]\n",
    "    subprocess.run(command,stdout=subprocess.PIPE,stdin=subprocess.PIPE)"
   ]
  },
  {
   "cell_type": "code",
   "execution_count": 4,
   "metadata": {},
   "outputs": [
    {
     "name": "stdout",
     "output_type": "stream",
     "text": [
      "3min 39s ± 12.4 s per loop (mean ± std. dev. of 7 runs, 1 loop each)\n"
     ]
    }
   ],
   "source": [
    "for x in get_files('nlp_keywords_29Oct2020/'):\n",
    "    mkdir(x) \n",
    "for x in get_files('AdditionalUtterances/'):\n",
    "    mkdir(x)\n",
    "!mkdir -p wav1/audio_files\n",
    "for x in get_files('nlp_keywords_29Oct2020/'):\n",
    "    convert_sr(x)\n",
    "for x in get_files('AdditionalUtterances/'):\n",
    "    convert_sr(x)\n",
    "for x in get_files('audio_files/'):\n",
    "    convert_sr(x)"
   ]
  },
  {
   "cell_type": "code",
   "execution_count": 5,
   "metadata": {
    "colab": {
     "base_uri": "https://localhost:8080/",
     "height": 204
    },
    "colab_type": "code",
    "id": "WI0jHls53JSi",
    "outputId": "e098a4b8-c3a8-4362-ed35-fea3f2936e81"
   },
   "outputs": [],
   "source": [
    "train = pd.read_csv('Train.csv')\n",
    "train['fn'] = 'wav1/' + train['fn']"
   ]
  },
  {
   "cell_type": "markdown",
   "metadata": {},
   "source": [
    "### Adding additional Train data to existing Train csv file "
   ]
  },
  {
   "cell_type": "code",
   "execution_count": 6,
   "metadata": {},
   "outputs": [],
   "source": [
    "def get_x(path):\n",
    "    x = get_files(path,extensions='.wav')\n",
    "    return L((str(y),y.parent.name) for y in x)"
   ]
  },
  {
   "cell_type": "code",
   "execution_count": 7,
   "metadata": {},
   "outputs": [
    {
     "data": {
      "text/plain": [
       "7"
      ]
     },
     "execution_count": 7,
     "metadata": {},
     "output_type": "execute_result"
    }
   ],
   "source": [
    "df = pd.DataFrame(get_x('wav1/nlp_keywords_29Oct2020/nlp_keywords/'),columns=['fn','label'])\n",
    "df1 = pd.DataFrame(get_x('wav1/AdditionalUtterances/latest_keywords/'),columns=['fn','label'])\n",
    "train = pd.concat([train,df,df1],ignore_index=True)\n",
    "del df\n",
    "del df1\n",
    "gc.collect()"
   ]
  },
  {
   "cell_type": "markdown",
   "metadata": {},
   "source": [
    "Making 'is_valid' feature False to use complete train data for training the model"
   ]
  },
  {
   "cell_type": "code",
   "execution_count": 8,
   "metadata": {},
   "outputs": [],
   "source": [
    "train['is_valid'] = False"
   ]
  },
  {
   "cell_type": "code",
   "execution_count": 9,
   "metadata": {
    "colab": {
     "base_uri": "https://localhost:8080/",
     "height": 287
    },
    "colab_type": "code",
    "id": "JoI7ag9D3WsF",
    "outputId": "bf80a5a2-387e-439c-e901-57edac60d371",
    "scrolled": true
   },
   "outputs": [],
   "source": [
    "ss = pd.read_csv('SampleSubmission.csv')"
   ]
  },
  {
   "cell_type": "markdown",
   "metadata": {},
   "source": [
    "## Reading audio file with different augmentations\n",
    "- Credits:\n",
    "    * https://github.com/vlomme/Birdcall-Identification-competition\n",
    "    * https://pypi.org/project/nlpaug/\n",
    "    * https://github.com/iver56/audiomentations"
   ]
  },
  {
   "cell_type": "code",
   "execution_count": 10,
   "metadata": {
    "colab": {
     "base_uri": "https://localhost:8080/",
     "height": 286
    },
    "colab_type": "code",
    "id": "4Ft8HqmB41lU",
    "outputId": "ab311c87-aa99-4d4e-e075-53635920a9b1",
    "scrolled": true
   },
   "outputs": [
    {
     "data": {
      "text/plain": [
       "<matplotlib.image.AxesImage at 0x7f00690e3610>"
      ]
     },
     "execution_count": 10,
     "metadata": {},
     "output_type": "execute_result"
    },
    {
     "data": {
      "image/png": "[encoded data removed]",
      "text/plain": [
       "<Figure size 432x288 with 1 Axes>"
      ]
     },
     "metadata": {
      "needs_background": "light"
     },
     "output_type": "display_data"
    }
   ],
   "source": [
    "def random_power(images, power = 1.5, c= 0.7):\n",
    "    images = images - images.min()\n",
    "    images = images/(images.max()+0.0000001)\n",
    "    images = images**(random.random()*power + c)\n",
    "    return images\n",
    "def mono_to_color1(X: np.ndarray,\n",
    "                  mean=0.5,\n",
    "                  std=0.5,\n",
    "                  norm_max=None,\n",
    "                  norm_min=None,\n",
    "                  eps=1e-6):\n",
    "    \"\"\"\n",
    "    Code from https://www.kaggle.com/daisukelab/creating-fat2019-preprocessed-data\n",
    "    \"\"\"\n",
    "    # Stack X as [X,X,X]\n",
    "#     if X.ndim==2 : X = np.expand_dims(X,2)\n",
    "#     X = np.stack([X, X, X], axis=-1)\n",
    "\n",
    "    # Standardize\n",
    "    mean = mean or X.mean()\n",
    "    X = X - mean\n",
    "    std = std or X.std()\n",
    "    Xstd = X / (std + eps)\n",
    "    _min, _max = Xstd.min(), Xstd.max()\n",
    "    norm_max = norm_max or _max\n",
    "    norm_min = norm_min or _min\n",
    "    if (_max - _min) > eps:\n",
    "        # Normalize to [0, 255]\n",
    "        V = Xstd\n",
    "        V[V < norm_min] = norm_min\n",
    "        V[V > norm_max] = norm_max\n",
    "        V = 255 * (V - norm_min) / (norm_max - norm_min)\n",
    "        V = V.astype(np.uint8)\n",
    "    else:\n",
    "        # Just zero\n",
    "        V = np.zeros_like(Xstd, dtype=np.uint8)\n",
    "    return V\n",
    "\n",
    "def im_from_audio(fn, sample_rate=16000, window_length=0.005, window_step=0.0045, NFFT=1292):\n",
    "  \n",
    "  # Load the audio into an array (signal) at the specified sample rate\n",
    "  signal, sr = librosa.load(fn, sr=sample_rate,res_type=\"kaiser_fast\")\n",
    "  n_mels = 225\n",
    "  level_noise = 0.05\n",
    "\n",
    "  rand = random.random()\n",
    "  augment = Compose([\n",
    "    AddGaussianNoise(min_amplitude=0.001, max_amplitude=0.015, p=0.5),\n",
    "\n",
    "    PitchShift(min_semitones=-4, max_semitones=4, p=0.5),\n",
    "#The sound files used for background and short noise downloaded from freesound.org\n",
    "\n",
    "#street-scene-1 by saphe\n",
    "#street-scene-3 by saphe\n",
    "#high-street-of-gandia-valencia-spain by jormarp\n",
    "#city-park-tel-aviv-israel by yonts\n",
    "\n",
    "#URLs:\n",
    "\n",
    "#http://freesound.org/people/saphe/sounds/150993/\n",
    "#http://freesound.org/people/saphe/sounds/173955/\n",
    "#http://freesound.org/people/Jormarp/sounds/207208/\n",
    "#http://freesound.org/people/yonts/sounds/268903/\n",
    "      \n",
    "      # Cropped original sound to 4seconds\n",
    "      AddShortNoises(sounds_path=PosixPath('bgn/')), \n",
    "      AddBackgroundNoise(sounds_path=PosixPath('bgn/'),p=1.0)\n",
    "\n",
    "    ])\n",
    "  signal = augment(samples=signal,sample_rate=sample_rate)\n",
    "\n",
    "# # Speed Augmenter\n",
    "  if rand<0.5:\n",
    "    aug = naa.SpeedAug()\n",
    "    signal = aug.augment(signal)\n",
    "\n",
    "  spectr = librosa.feature.melspectrogram(signal, sr=sample_rate, n_mels=n_mels, n_fft=NFFT, win_length = NFFT,hop_length = 100)# ,fmin = 300)\n",
    "\n",
    "  images = np.zeros((n_mels, spectr.shape[1])).astype(np.float32)\n",
    "\n",
    "  # Change the contrast \n",
    "  mel = random_power(spectr, power = 3, c= 0.5)\n",
    "  # Mix the signal\n",
    "  div_coef = 100\n",
    "  \n",
    "  images = images + mel*(random.random() * div_coef + 1)\n",
    "\n",
    "  images = images + mel/(mel.max()+0.0000001)*(random.random()*1+0.5)*images.max()\n",
    "        \n",
    "        # In db and normalize\n",
    "  images = librosa.power_to_db(spectr.astype(np.float32), ref=np.max)\n",
    "  images = (images+80)/80\n",
    "        \n",
    "        # Add noise\n",
    "        # Add white noise            \n",
    "  if random.random()<0.9:\n",
    "    images = images + (np.random.sample((n_mels,spectr.shape[1])).astype(np.float32)+9) * images.mean() * level_noise * (np.random.sample() + 0.3)\n",
    "        \n",
    "#         Add pink noise \n",
    "  if random.random()<0.9:\n",
    "    r = random.randint(1,n_mels)\n",
    "    pink_noise = np.array([np.concatenate((1 - np.arange(r)/r,np.zeros(n_mels-r)))]).T\n",
    "    images = images + (np.random.sample((n_mels, spectr.shape[1])).astype(np.float32)+9) * 2  * images.mean() * level_noise * (np.random.sample() + 0.3)\n",
    "        \n",
    "        # Add bandpass noise\n",
    "  if random.random()<0.9:\n",
    "    a = random.randint(0, n_mels//2)\n",
    "    b = random.randint(a+20, n_mels)\n",
    "    images[a:b,:] = images[a:b,:] + (np.random.sample((b-a,spectr.shape[1])).astype(np.float32)+9) * 0.05 * images.mean() * level_noise  * (np.random.sample() + 0.3)\n",
    "  \n",
    "  if random.random()<0.5:\n",
    "      images = images - images.min()\n",
    "      r = random.randint(spectr.shape[0]//2,spectr.shape[0])\n",
    "      x = random.random()/2\n",
    "      pink_noise = np.array([np.concatenate((1-np.arange(r)*x/r,np.zeros(spectr.shape[0]-r)-x+1))]).T\n",
    "      images = images*pink_noise\n",
    "      images = images/images.max()\n",
    "  rand = random.random()\n",
    "#Frequency Masking\n",
    "  if rand<0.5:\n",
    "    aug = nas.FrequencyMaskingAug(zone=(0, 1))\n",
    "    images = aug.substitute(images)\n",
    "\n",
    "  images = mono_to_color1(images)\n",
    "\n",
    "  return images\n",
    "\n",
    "plt.imshow(im_from_audio('wav1/AdditionalUtterances/latest_keywords/amatooke/2497942026ef4d7e97d47fc2738d7c27_881369e0729e474b8b642a60dac1af55.wav'))"
   ]
  },
  {
   "cell_type": "markdown",
   "metadata": {},
   "source": [
    "## Building dataloader with FastAI Datablock API\n",
    "- Credits : https://docs.fast.ai/"
   ]
  },
  {
   "cell_type": "code",
   "execution_count": 11,
   "metadata": {},
   "outputs": [],
   "source": [
    "random_seed(19)\n",
    "import pdb\n",
    "def get_x(fn):\n",
    "  spectrogram = im_from_audio(fn.fn) # Converting audio file to image\n",
    "  return spectrogram\n",
    "\n",
    "def get_y(fn):\n",
    "  return train.loc[train.fn == fn.fn].label.values[0] # Labels for corresponding \n",
    "\n",
    "def get_fns(_):\n",
    "  return train # train csv file"
   ]
  },
  {
   "cell_type": "code",
   "execution_count": 12,
   "metadata": {
    "colab": {
     "base_uri": "https://localhost:8080/",
     "height": 536
    },
    "colab_type": "code",
    "id": "eo4GmJIt77oA",
    "outputId": "67691620-a02e-4d20-c3f6-0e40da3e5fcc",
    "scrolled": true
   },
   "outputs": [],
   "source": [
    "def get_dls(bs,size):\n",
    "    dblock = DataBlock(\n",
    "        blocks=(ImageBlock, CategoryBlock),\n",
    "        get_items=get_fns, # getting items from train csv \n",
    "        get_x=get_x, # Image file from audio\n",
    "        get_y=get_y, # Labels\n",
    "        splitter=ColSplitter(), # No valid data, \n",
    "        item_tfms=Resize(224,size),# resizing image\n",
    "        batch_tfms=[*aug_transforms(size=(224,size), min_scale=0.85,do_flip=False,p_affine=0,max_rotate=0,\n",
    "        max_zoom=0,max_warp=0,p_lighting=0,\n",
    "        pad_mode='zeros')]\n",
    ")\n",
    "    return dblock.dataloaders(Path(''), bs=bs) #creating dataloader"
   ]
  },
  {
   "cell_type": "markdown",
   "metadata": {
    "colab_type": "text",
    "id": "7rADtGxZCtah"
   },
   "source": [
    "## Reading Test data audio file"
   ]
  },
  {
   "cell_type": "code",
   "execution_count": 14,
   "metadata": {},
   "outputs": [],
   "source": [
    "def im_from_audiov(fn, sample_rate=16000, window_length=0.005, window_step=0.0045, NFFT=1292):\n",
    "    n_mels = 225\n",
    "    signal, sr = librosa.load(fn, sr=sample_rate,res_type=\"kaiser_fast\")\n",
    "    spectr = librosa.feature.melspectrogram(signal, sr=sample_rate, n_mels=n_mels, n_fft=NFFT, win_length = NFFT,hop_length = 100)# ,fmin = 300)\n",
    "    spectr = librosa.power_to_db(spectr.astype(np.float32), amin=1e-7, ref=np.max)\n",
    "    spectr = ((spectr+80)/80)\n",
    "    images = mono_to_color1(spectr)\n",
    "    return images\n",
    "def get_t(fn):\n",
    "  spectrogram = im_from_audiov(fn) #Converts audio file into image\n",
    "  return spectrogram\n",
    "def get_fns_t(_):\n",
    "  return [get_t('wav1/'+i) for i in ss['fn'].values] # test data from sample submission csv"
   ]
  },
  {
   "cell_type": "markdown",
   "metadata": {},
   "source": [
    "### Below are the model architectures with pretrained weights used"
   ]
  },
  {
   "cell_type": "code",
   "execution_count": 13,
   "metadata": {},
   "outputs": [],
   "source": [
    "# learn = load_learner('exp1', cpu=False)\n",
    "model = {}\n",
    "models = [resnet18,resnet34,resnet50,densenet121,densenet169]\n",
    "# pth = ['resnet18','resnet34','resnet50','densenet121']"
   ]
  },
  {
   "cell_type": "markdown",
   "metadata": {},
   "source": [
    "## Training the model and getting prediction for test data set\n",
    "- Credits : https://docs.fast.ai/"
   ]
  },
  {
   "cell_type": "code",
   "execution_count": 15,
   "metadata": {},
   "outputs": [
    {
     "data": {
      "text/html": [
       "<table border=\"1\" class=\"dataframe\">\n",
       "  <thead>\n",
       "    <tr style=\"text-align: left;\">\n",
       "      <th>epoch</th>\n",
       "      <th>train_loss</th>\n",
       "      <th>valid_loss</th>\n",
       "      <th>time</th>\n",
       "    </tr>\n",
       "  </thead>\n",
       "  <tbody>\n",
       "    <tr>\n",
       "      <td>0</td>\n",
       "      <td>6.373656</td>\n",
       "      <td>None</td>\n",
       "      <td>08:39</td>\n",
       "    </tr>\n",
       "  </tbody>\n",
       "</table>"
      ],
      "text/plain": [
       "<IPython.core.display.HTML object>"
      ]
     },
     "metadata": {},
     "output_type": "display_data"
    },
    {
     "data": {
      "text/html": [
       "<table border=\"1\" class=\"dataframe\">\n",
       "  <thead>\n",
       "    <tr style=\"text-align: left;\">\n",
       "      <th>epoch</th>\n",
       "      <th>train_loss</th>\n",
       "      <th>valid_loss</th>\n",
       "      <th>time</th>\n",
       "    </tr>\n",
       "  </thead>\n",
       "  <tbody>\n",
       "    <tr>\n",
       "      <td>0</td>\n",
       "      <td>5.997389</td>\n",
       "      <td>None</td>\n",
       "      <td>08:29</td>\n",
       "    </tr>\n",
       "  </tbody>\n",
       "</table>"
      ],
      "text/plain": [
       "<IPython.core.display.HTML object>"
      ]
     },
     "metadata": {},
     "output_type": "display_data"
    },
    {
     "name": "stdout",
     "output_type": "stream",
     "text": [
      "Better model found at epoch 0 with train_loss value: 5.99738883972168.\n"
     ]
    },
    {
     "data": {
      "text/html": [
       "<table border=\"1\" class=\"dataframe\">\n",
       "  <thead>\n",
       "    <tr style=\"text-align: left;\">\n",
       "      <th>epoch</th>\n",
       "      <th>train_loss</th>\n",
       "      <th>valid_loss</th>\n",
       "      <th>time</th>\n",
       "    </tr>\n",
       "  </thead>\n",
       "  <tbody>\n",
       "    <tr>\n",
       "      <td>0</td>\n",
       "      <td>5.571489</td>\n",
       "      <td>None</td>\n",
       "      <td>08:08</td>\n",
       "    </tr>\n",
       "  </tbody>\n",
       "</table>"
      ],
      "text/plain": [
       "<IPython.core.display.HTML object>"
      ]
     },
     "metadata": {},
     "output_type": "display_data"
    },
    {
     "name": "stdout",
     "output_type": "stream",
     "text": [
      "Better model found at epoch 0 with train_loss value: 5.571488857269287.\n",
      "<function resnet18 at 0x7f0076d0a4d0> Model completed\n"
     ]
    },
    {
     "data": {
      "text/html": [
       "\n",
       "    <div>\n",
       "        <style>\n",
       "            /* Turns off some styling */\n",
       "            progress {\n",
       "                /* gets rid of default border in Firefox and Opera. */\n",
       "                border: none;\n",
       "                /* Needs to be in here for Safari polyfill so background images work as expected. */\n",
       "                background-size: auto;\n",
       "            }\n",
       "            .progress-bar-interrupted, .progress-bar-interrupted::-webkit-progress-bar {\n",
       "                background: #F44336;\n",
       "            }\n",
       "        </style>\n",
       "      <progress value='0' class='' max='1' style='width:300px; height:20px; vertical-align: middle;'></progress>\n",
       "      \n",
       "    </div>\n",
       "    \n"
      ],
      "text/plain": [
       "<IPython.core.display.HTML object>"
      ]
     },
     "metadata": {},
     "output_type": "display_data"
    },
    {
     "data": {
      "text/html": [],
      "text/plain": [
       "<IPython.core.display.HTML object>"
      ]
     },
     "metadata": {},
     "output_type": "display_data"
    },
    {
     "data": {
      "text/html": [
       "<table border=\"1\" class=\"dataframe\">\n",
       "  <thead>\n",
       "    <tr style=\"text-align: left;\">\n",
       "      <th>epoch</th>\n",
       "      <th>train_loss</th>\n",
       "      <th>valid_loss</th>\n",
       "      <th>time</th>\n",
       "    </tr>\n",
       "  </thead>\n",
       "  <tbody>\n",
       "    <tr>\n",
       "      <td>0</td>\n",
       "      <td>6.305283</td>\n",
       "      <td>None</td>\n",
       "      <td>08:32</td>\n",
       "    </tr>\n",
       "  </tbody>\n",
       "</table>"
      ],
      "text/plain": [
       "<IPython.core.display.HTML object>"
      ]
     },
     "metadata": {},
     "output_type": "display_data"
    },
    {
     "data": {
      "text/html": [
       "<table border=\"1\" class=\"dataframe\">\n",
       "  <thead>\n",
       "    <tr style=\"text-align: left;\">\n",
       "      <th>epoch</th>\n",
       "      <th>train_loss</th>\n",
       "      <th>valid_loss</th>\n",
       "      <th>time</th>\n",
       "    </tr>\n",
       "  </thead>\n",
       "  <tbody>\n",
       "    <tr>\n",
       "      <td>0</td>\n",
       "      <td>6.008992</td>\n",
       "      <td>None</td>\n",
       "      <td>08:29</td>\n",
       "    </tr>\n",
       "  </tbody>\n",
       "</table>"
      ],
      "text/plain": [
       "<IPython.core.display.HTML object>"
      ]
     },
     "metadata": {},
     "output_type": "display_data"
    },
    {
     "name": "stdout",
     "output_type": "stream",
     "text": [
      "Better model found at epoch 0 with train_loss value: 6.0089921951293945.\n"
     ]
    },
    {
     "data": {
      "text/html": [
       "<table border=\"1\" class=\"dataframe\">\n",
       "  <thead>\n",
       "    <tr style=\"text-align: left;\">\n",
       "      <th>epoch</th>\n",
       "      <th>train_loss</th>\n",
       "      <th>valid_loss</th>\n",
       "      <th>time</th>\n",
       "    </tr>\n",
       "  </thead>\n",
       "  <tbody>\n",
       "    <tr>\n",
       "      <td>0</td>\n",
       "      <td>5.546382</td>\n",
       "      <td>None</td>\n",
       "      <td>08:58</td>\n",
       "    </tr>\n",
       "  </tbody>\n",
       "</table>"
      ],
      "text/plain": [
       "<IPython.core.display.HTML object>"
      ]
     },
     "metadata": {},
     "output_type": "display_data"
    },
    {
     "name": "stdout",
     "output_type": "stream",
     "text": [
      "Better model found at epoch 0 with train_loss value: 5.546382427215576.\n",
      "<function resnet34 at 0x7f0076d0a560> Model completed\n"
     ]
    },
    {
     "data": {
      "text/html": [
       "\n",
       "    <div>\n",
       "        <style>\n",
       "            /* Turns off some styling */\n",
       "            progress {\n",
       "                /* gets rid of default border in Firefox and Opera. */\n",
       "                border: none;\n",
       "                /* Needs to be in here for Safari polyfill so background images work as expected. */\n",
       "                background-size: auto;\n",
       "            }\n",
       "            .progress-bar-interrupted, .progress-bar-interrupted::-webkit-progress-bar {\n",
       "                background: #F44336;\n",
       "            }\n",
       "        </style>\n",
       "      <progress value='0' class='' max='1' style='width:300px; height:20px; vertical-align: middle;'></progress>\n",
       "      \n",
       "    </div>\n",
       "    \n"
      ],
      "text/plain": [
       "<IPython.core.display.HTML object>"
      ]
     },
     "metadata": {},
     "output_type": "display_data"
    },
    {
     "data": {
      "text/html": [],
      "text/plain": [
       "<IPython.core.display.HTML object>"
      ]
     },
     "metadata": {},
     "output_type": "display_data"
    },
    {
     "data": {
      "text/html": [
       "<table border=\"1\" class=\"dataframe\">\n",
       "  <thead>\n",
       "    <tr style=\"text-align: left;\">\n",
       "      <th>epoch</th>\n",
       "      <th>train_loss</th>\n",
       "      <th>valid_loss</th>\n",
       "      <th>time</th>\n",
       "    </tr>\n",
       "  </thead>\n",
       "  <tbody>\n",
       "    <tr>\n",
       "      <td>0</td>\n",
       "      <td>6.314536</td>\n",
       "      <td>None</td>\n",
       "      <td>08:31</td>\n",
       "    </tr>\n",
       "  </tbody>\n",
       "</table>"
      ],
      "text/plain": [
       "<IPython.core.display.HTML object>"
      ]
     },
     "metadata": {},
     "output_type": "display_data"
    },
    {
     "data": {
      "text/html": [
       "<table border=\"1\" class=\"dataframe\">\n",
       "  <thead>\n",
       "    <tr style=\"text-align: left;\">\n",
       "      <th>epoch</th>\n",
       "      <th>train_loss</th>\n",
       "      <th>valid_loss</th>\n",
       "      <th>time</th>\n",
       "    </tr>\n",
       "  </thead>\n",
       "  <tbody>\n",
       "    <tr>\n",
       "      <td>0</td>\n",
       "      <td>6.005623</td>\n",
       "      <td>None</td>\n",
       "      <td>08:42</td>\n",
       "    </tr>\n",
       "  </tbody>\n",
       "</table>"
      ],
      "text/plain": [
       "<IPython.core.display.HTML object>"
      ]
     },
     "metadata": {},
     "output_type": "display_data"
    },
    {
     "name": "stdout",
     "output_type": "stream",
     "text": [
      "Better model found at epoch 0 with train_loss value: 6.005622863769531.\n"
     ]
    },
    {
     "data": {
      "text/html": [
       "<table border=\"1\" class=\"dataframe\">\n",
       "  <thead>\n",
       "    <tr style=\"text-align: left;\">\n",
       "      <th>epoch</th>\n",
       "      <th>train_loss</th>\n",
       "      <th>valid_loss</th>\n",
       "      <th>time</th>\n",
       "    </tr>\n",
       "  </thead>\n",
       "  <tbody>\n",
       "    <tr>\n",
       "      <td>0</td>\n",
       "      <td>5.495543</td>\n",
       "      <td>None</td>\n",
       "      <td>08:22</td>\n",
       "    </tr>\n",
       "  </tbody>\n",
       "</table>"
      ],
      "text/plain": [
       "<IPython.core.display.HTML object>"
      ]
     },
     "metadata": {},
     "output_type": "display_data"
    },
    {
     "name": "stdout",
     "output_type": "stream",
     "text": [
      "Better model found at epoch 0 with train_loss value: 5.495543003082275.\n",
      "<function resnet50 at 0x7f0076d0a5f0> Model completed\n"
     ]
    },
    {
     "data": {
      "text/html": [
       "\n",
       "    <div>\n",
       "        <style>\n",
       "            /* Turns off some styling */\n",
       "            progress {\n",
       "                /* gets rid of default border in Firefox and Opera. */\n",
       "                border: none;\n",
       "                /* Needs to be in here for Safari polyfill so background images work as expected. */\n",
       "                background-size: auto;\n",
       "            }\n",
       "            .progress-bar-interrupted, .progress-bar-interrupted::-webkit-progress-bar {\n",
       "                background: #F44336;\n",
       "            }\n",
       "        </style>\n",
       "      <progress value='0' class='' max='1' style='width:300px; height:20px; vertical-align: middle;'></progress>\n",
       "      \n",
       "    </div>\n",
       "    \n"
      ],
      "text/plain": [
       "<IPython.core.display.HTML object>"
      ]
     },
     "metadata": {},
     "output_type": "display_data"
    },
    {
     "data": {
      "text/html": [],
      "text/plain": [
       "<IPython.core.display.HTML object>"
      ]
     },
     "metadata": {},
     "output_type": "display_data"
    },
    {
     "data": {
      "text/html": [
       "<table border=\"1\" class=\"dataframe\">\n",
       "  <thead>\n",
       "    <tr style=\"text-align: left;\">\n",
       "      <th>epoch</th>\n",
       "      <th>train_loss</th>\n",
       "      <th>valid_loss</th>\n",
       "      <th>time</th>\n",
       "    </tr>\n",
       "  </thead>\n",
       "  <tbody>\n",
       "    <tr>\n",
       "      <td>0</td>\n",
       "      <td>6.181991</td>\n",
       "      <td>None</td>\n",
       "      <td>08:38</td>\n",
       "    </tr>\n",
       "  </tbody>\n",
       "</table>"
      ],
      "text/plain": [
       "<IPython.core.display.HTML object>"
      ]
     },
     "metadata": {},
     "output_type": "display_data"
    },
    {
     "data": {
      "text/html": [
       "<table border=\"1\" class=\"dataframe\">\n",
       "  <thead>\n",
       "    <tr style=\"text-align: left;\">\n",
       "      <th>epoch</th>\n",
       "      <th>train_loss</th>\n",
       "      <th>valid_loss</th>\n",
       "      <th>time</th>\n",
       "    </tr>\n",
       "  </thead>\n",
       "  <tbody>\n",
       "    <tr>\n",
       "      <td>0</td>\n",
       "      <td>5.977781</td>\n",
       "      <td>None</td>\n",
       "      <td>08:44</td>\n",
       "    </tr>\n",
       "  </tbody>\n",
       "</table>"
      ],
      "text/plain": [
       "<IPython.core.display.HTML object>"
      ]
     },
     "metadata": {},
     "output_type": "display_data"
    },
    {
     "name": "stdout",
     "output_type": "stream",
     "text": [
      "Better model found at epoch 0 with train_loss value: 5.977780818939209.\n"
     ]
    },
    {
     "data": {
      "text/html": [
       "<table border=\"1\" class=\"dataframe\">\n",
       "  <thead>\n",
       "    <tr style=\"text-align: left;\">\n",
       "      <th>epoch</th>\n",
       "      <th>train_loss</th>\n",
       "      <th>valid_loss</th>\n",
       "      <th>time</th>\n",
       "    </tr>\n",
       "  </thead>\n",
       "  <tbody>\n",
       "    <tr>\n",
       "      <td>0</td>\n",
       "      <td>5.488944</td>\n",
       "      <td>None</td>\n",
       "      <td>08:44</td>\n",
       "    </tr>\n",
       "  </tbody>\n",
       "</table>"
      ],
      "text/plain": [
       "<IPython.core.display.HTML object>"
      ]
     },
     "metadata": {},
     "output_type": "display_data"
    },
    {
     "name": "stdout",
     "output_type": "stream",
     "text": [
      "Better model found at epoch 0 with train_loss value: 5.488943576812744.\n",
      "<function densenet121 at 0x7f0076d26dd0> Model completed\n"
     ]
    },
    {
     "data": {
      "text/html": [
       "\n",
       "    <div>\n",
       "        <style>\n",
       "            /* Turns off some styling */\n",
       "            progress {\n",
       "                /* gets rid of default border in Firefox and Opera. */\n",
       "                border: none;\n",
       "                /* Needs to be in here for Safari polyfill so background images work as expected. */\n",
       "                background-size: auto;\n",
       "            }\n",
       "            .progress-bar-interrupted, .progress-bar-interrupted::-webkit-progress-bar {\n",
       "                background: #F44336;\n",
       "            }\n",
       "        </style>\n",
       "      <progress value='0' class='' max='1' style='width:300px; height:20px; vertical-align: middle;'></progress>\n",
       "      \n",
       "    </div>\n",
       "    \n"
      ],
      "text/plain": [
       "<IPython.core.display.HTML object>"
      ]
     },
     "metadata": {},
     "output_type": "display_data"
    },
    {
     "data": {
      "text/html": [],
      "text/plain": [
       "<IPython.core.display.HTML object>"
      ]
     },
     "metadata": {},
     "output_type": "display_data"
    },
    {
     "data": {
      "text/html": [
       "<table border=\"1\" class=\"dataframe\">\n",
       "  <thead>\n",
       "    <tr style=\"text-align: left;\">\n",
       "      <th>epoch</th>\n",
       "      <th>train_loss</th>\n",
       "      <th>valid_loss</th>\n",
       "      <th>time</th>\n",
       "    </tr>\n",
       "  </thead>\n",
       "  <tbody>\n",
       "    <tr>\n",
       "      <td>0</td>\n",
       "      <td>6.077588</td>\n",
       "      <td>None</td>\n",
       "      <td>08:59</td>\n",
       "    </tr>\n",
       "  </tbody>\n",
       "</table>"
      ],
      "text/plain": [
       "<IPython.core.display.HTML object>"
      ]
     },
     "metadata": {},
     "output_type": "display_data"
    },
    {
     "data": {
      "text/html": [
       "<table border=\"1\" class=\"dataframe\">\n",
       "  <thead>\n",
       "    <tr style=\"text-align: left;\">\n",
       "      <th>epoch</th>\n",
       "      <th>train_loss</th>\n",
       "      <th>valid_loss</th>\n",
       "      <th>time</th>\n",
       "    </tr>\n",
       "  </thead>\n",
       "  <tbody>\n",
       "    <tr>\n",
       "      <td>0</td>\n",
       "      <td>5.934541</td>\n",
       "      <td>None</td>\n",
       "      <td>08:53</td>\n",
       "    </tr>\n",
       "  </tbody>\n",
       "</table>"
      ],
      "text/plain": [
       "<IPython.core.display.HTML object>"
      ]
     },
     "metadata": {},
     "output_type": "display_data"
    },
    {
     "name": "stdout",
     "output_type": "stream",
     "text": [
      "Better model found at epoch 0 with train_loss value: 5.934540748596191.\n"
     ]
    },
    {
     "data": {
      "text/html": [
       "<table border=\"1\" class=\"dataframe\">\n",
       "  <thead>\n",
       "    <tr style=\"text-align: left;\">\n",
       "      <th>epoch</th>\n",
       "      <th>train_loss</th>\n",
       "      <th>valid_loss</th>\n",
       "      <th>time</th>\n",
       "    </tr>\n",
       "  </thead>\n",
       "  <tbody>\n",
       "    <tr>\n",
       "      <td>0</td>\n",
       "      <td>5.285256</td>\n",
       "      <td>None</td>\n",
       "      <td>10:50</td>\n",
       "    </tr>\n",
       "  </tbody>\n",
       "</table>"
      ],
      "text/plain": [
       "<IPython.core.display.HTML object>"
      ]
     },
     "metadata": {},
     "output_type": "display_data"
    },
    {
     "name": "stdout",
     "output_type": "stream",
     "text": [
      "Better model found at epoch 0 with train_loss value: 5.285256385803223.\n",
      "<function densenet169 at 0x7f0076d26ef0> Model completed\n"
     ]
    },
    {
     "data": {
      "text/html": [
       "\n",
       "    <div>\n",
       "        <style>\n",
       "            /* Turns off some styling */\n",
       "            progress {\n",
       "                /* gets rid of default border in Firefox and Opera. */\n",
       "                border: none;\n",
       "                /* Needs to be in here for Safari polyfill so background images work as expected. */\n",
       "                background-size: auto;\n",
       "            }\n",
       "            .progress-bar-interrupted, .progress-bar-interrupted::-webkit-progress-bar {\n",
       "                background: #F44336;\n",
       "            }\n",
       "        </style>\n",
       "      <progress value='0' class='' max='1' style='width:300px; height:20px; vertical-align: middle;'></progress>\n",
       "      \n",
       "    </div>\n",
       "    \n"
      ],
      "text/plain": [
       "<IPython.core.display.HTML object>"
      ]
     },
     "metadata": {},
     "output_type": "display_data"
    },
    {
     "data": {
      "text/html": [],
      "text/plain": [
       "<IPython.core.display.HTML object>"
      ]
     },
     "metadata": {},
     "output_type": "display_data"
    }
   ],
   "source": [
    "for i,a in enumerate(models):\n",
    "    # changing batch size to fit into 6GB GPU\n",
    "    if a is densenet121:dls = get_dls(16,512) \n",
    "    elif a is densenet169:dls = get_dls(12,512)\n",
    "    else:dls = get_dls(20,512)\n",
    "    learn = cnn_learner(dls,models[i])# creating leaner with architecture and dataloader\n",
    "    learn.fit_one_cycle(3, 3e-3)# freezing earlier layers and trained for 3 epochs\n",
    "    learn.fine_tune(116,wd=0.2,cbs=[SaveModelCallback(monitor='train_loss')]) # unfreezing after 1 epoch and trained for 116 epochs\n",
    "    print(str(a)+' Model completed')\n",
    "#     learn.load(pth[i])\n",
    "    tdl = learn.dls.test_dl(get_fns_t(_), order=True) # get test dataloader\n",
    "    learn.epoch = 0\n",
    "    preds,targs = learn.tta(dl=tdl,n=5) # test time augmentation\n",
    "    model[i] = preds # saving the prediction\n",
    "    del learn\n",
    "    gc.collect()\n",
    "# Trained with 1 epoch for sample run"
   ]
  },
  {
   "cell_type": "markdown",
   "metadata": {},
   "source": [
    "## Ensembling"
   ]
  },
  {
   "cell_type": "code",
   "execution_count": 16,
   "metadata": {},
   "outputs": [],
   "source": [
    "# Taking mean \n",
    "mean = np.mean((np.stack([model[0],model[1],model[2],model[3],model[4]])),axis=0)"
   ]
  },
  {
   "cell_type": "code",
   "execution_count": 17,
   "metadata": {
    "colab": {
     "base_uri": "https://localhost:8080/",
     "height": 34
    },
    "colab_type": "code",
    "id": "MdFaLryNMgy1",
    "outputId": "9a4e51dc-5887-42cd-8f78-46fe47407f8d",
    "scrolled": true
   },
   "outputs": [
    {
     "data": {
      "text/plain": [
       "(#193) ['Pump','Spinach','abalimi','afukirira','agriculture','akammwanyi','akamonde','akasaanyi','akatunda','akatungulu'...]"
      ]
     },
     "execution_count": 17,
     "metadata": {},
     "output_type": "execute_result"
    }
   ],
   "source": [
    "dls.vocab # The class names"
   ]
  },
  {
   "cell_type": "markdown",
   "metadata": {},
   "source": [
    "## Saving the prediction"
   ]
  },
  {
   "cell_type": "code",
   "execution_count": 18,
   "metadata": {
    "colab": {
     "base_uri": "https://localhost:8080/",
     "height": 287
    },
    "colab_type": "code",
    "id": "5uiDlxzpNSCG",
    "outputId": "95befd1f-8ff1-46c1-d3f2-8a290efce903"
   },
   "outputs": [
    {
     "data": {
      "text/html": [
       "<div>\n",
       "<style scoped>\n",
       "    .dataframe tbody tr th:only-of-type {\n",
       "        vertical-align: middle;\n",
       "    }\n",
       "\n",
       "    .dataframe tbody tr th {\n",
       "        vertical-align: top;\n",
       "    }\n",
       "\n",
       "    .dataframe thead th {\n",
       "        text-align: right;\n",
       "    }\n",
       "</style>\n",
       "<table border=\"1\" class=\"dataframe\">\n",
       "  <thead>\n",
       "    <tr style=\"text-align: right;\">\n",
       "      <th></th>\n",
       "      <th>fn</th>\n",
       "      <th>maize streak virus</th>\n",
       "      <th>disease</th>\n",
       "      <th>okukkoola</th>\n",
       "      <th>muwogo</th>\n",
       "      <th>mpeke</th>\n",
       "      <th>mucungwa</th>\n",
       "      <th>greens</th>\n",
       "      <th>garden</th>\n",
       "      <th>mango</th>\n",
       "      <th>...</th>\n",
       "      <th>kasaanyi</th>\n",
       "      <th>suckers</th>\n",
       "      <th>insects</th>\n",
       "      <th>fertilizer</th>\n",
       "      <th>nakavundira</th>\n",
       "      <th>ekiwojjolo</th>\n",
       "      <th>akawuka</th>\n",
       "      <th>ddagala</th>\n",
       "      <th>ebiwojjolo</th>\n",
       "      <th>obutungulu</th>\n",
       "    </tr>\n",
       "  </thead>\n",
       "  <tbody>\n",
       "    <tr>\n",
       "      <td>0</td>\n",
       "      <td>audio_files/00118N3.wav</td>\n",
       "      <td>0.002733</td>\n",
       "      <td>0.002405</td>\n",
       "      <td>0.004805</td>\n",
       "      <td>0.003777</td>\n",
       "      <td>0.019122</td>\n",
       "      <td>0.002385</td>\n",
       "      <td>0.002682</td>\n",
       "      <td>0.003634</td>\n",
       "      <td>0.002441</td>\n",
       "      <td>...</td>\n",
       "      <td>0.002192</td>\n",
       "      <td>0.003688</td>\n",
       "      <td>0.003438</td>\n",
       "      <td>0.003456</td>\n",
       "      <td>0.003484</td>\n",
       "      <td>0.006438</td>\n",
       "      <td>0.011642</td>\n",
       "      <td>0.003195</td>\n",
       "      <td>0.007830</td>\n",
       "      <td>0.005407</td>\n",
       "    </tr>\n",
       "    <tr>\n",
       "      <td>1</td>\n",
       "      <td>audio_files/00P0NMV.wav</td>\n",
       "      <td>0.001837</td>\n",
       "      <td>0.003004</td>\n",
       "      <td>0.003564</td>\n",
       "      <td>0.002017</td>\n",
       "      <td>0.001639</td>\n",
       "      <td>0.005469</td>\n",
       "      <td>0.002096</td>\n",
       "      <td>0.001918</td>\n",
       "      <td>0.037650</td>\n",
       "      <td>...</td>\n",
       "      <td>0.030281</td>\n",
       "      <td>0.002192</td>\n",
       "      <td>0.001458</td>\n",
       "      <td>0.011342</td>\n",
       "      <td>0.013962</td>\n",
       "      <td>0.002754</td>\n",
       "      <td>0.007252</td>\n",
       "      <td>0.006362</td>\n",
       "      <td>0.003455</td>\n",
       "      <td>0.004007</td>\n",
       "    </tr>\n",
       "    <tr>\n",
       "      <td>2</td>\n",
       "      <td>audio_files/01QEEZI.wav</td>\n",
       "      <td>0.003397</td>\n",
       "      <td>0.002386</td>\n",
       "      <td>0.004430</td>\n",
       "      <td>0.004637</td>\n",
       "      <td>0.003990</td>\n",
       "      <td>0.006283</td>\n",
       "      <td>0.002068</td>\n",
       "      <td>0.003329</td>\n",
       "      <td>0.003521</td>\n",
       "      <td>...</td>\n",
       "      <td>0.006431</td>\n",
       "      <td>0.002539</td>\n",
       "      <td>0.002329</td>\n",
       "      <td>0.006317</td>\n",
       "      <td>0.004356</td>\n",
       "      <td>0.007500</td>\n",
       "      <td>0.003339</td>\n",
       "      <td>0.005807</td>\n",
       "      <td>0.010631</td>\n",
       "      <td>0.006139</td>\n",
       "    </tr>\n",
       "    <tr>\n",
       "      <td>3</td>\n",
       "      <td>audio_files/037YAED.wav</td>\n",
       "      <td>0.001949</td>\n",
       "      <td>0.003747</td>\n",
       "      <td>0.005462</td>\n",
       "      <td>0.002574</td>\n",
       "      <td>0.002522</td>\n",
       "      <td>0.002909</td>\n",
       "      <td>0.002071</td>\n",
       "      <td>0.002547</td>\n",
       "      <td>0.013899</td>\n",
       "      <td>...</td>\n",
       "      <td>0.052571</td>\n",
       "      <td>0.002343</td>\n",
       "      <td>0.001427</td>\n",
       "      <td>0.005265</td>\n",
       "      <td>0.014195</td>\n",
       "      <td>0.003070</td>\n",
       "      <td>0.015049</td>\n",
       "      <td>0.008330</td>\n",
       "      <td>0.003358</td>\n",
       "      <td>0.004483</td>\n",
       "    </tr>\n",
       "    <tr>\n",
       "      <td>4</td>\n",
       "      <td>audio_files/0382N0Y.wav</td>\n",
       "      <td>0.002708</td>\n",
       "      <td>0.003174</td>\n",
       "      <td>0.002994</td>\n",
       "      <td>0.003021</td>\n",
       "      <td>0.006632</td>\n",
       "      <td>0.005526</td>\n",
       "      <td>0.002259</td>\n",
       "      <td>0.002364</td>\n",
       "      <td>0.013330</td>\n",
       "      <td>...</td>\n",
       "      <td>0.002651</td>\n",
       "      <td>0.002811</td>\n",
       "      <td>0.002893</td>\n",
       "      <td>0.011389</td>\n",
       "      <td>0.002894</td>\n",
       "      <td>0.006736</td>\n",
       "      <td>0.005491</td>\n",
       "      <td>0.004912</td>\n",
       "      <td>0.002607</td>\n",
       "      <td>0.003242</td>\n",
       "    </tr>\n",
       "  </tbody>\n",
       "</table>\n",
       "<p>5 rows × 194 columns</p>\n",
       "</div>"
      ],
      "text/plain": [
       "                        fn  maize streak virus   disease  okukkoola    muwogo  \\\n",
       "0  audio_files/00118N3.wav            0.002733  0.002405   0.004805  0.003777   \n",
       "1  audio_files/00P0NMV.wav            0.001837  0.003004   0.003564  0.002017   \n",
       "2  audio_files/01QEEZI.wav            0.003397  0.002386   0.004430  0.004637   \n",
       "3  audio_files/037YAED.wav            0.001949  0.003747   0.005462  0.002574   \n",
       "4  audio_files/0382N0Y.wav            0.002708  0.003174   0.002994  0.003021   \n",
       "\n",
       "      mpeke  mucungwa    greens    garden     mango  ...  kasaanyi   suckers  \\\n",
       "0  0.019122  0.002385  0.002682  0.003634  0.002441  ...  0.002192  0.003688   \n",
       "1  0.001639  0.005469  0.002096  0.001918  0.037650  ...  0.030281  0.002192   \n",
       "2  0.003990  0.006283  0.002068  0.003329  0.003521  ...  0.006431  0.002539   \n",
       "3  0.002522  0.002909  0.002071  0.002547  0.013899  ...  0.052571  0.002343   \n",
       "4  0.006632  0.005526  0.002259  0.002364  0.013330  ...  0.002651  0.002811   \n",
       "\n",
       "    insects  fertilizer  nakavundira  ekiwojjolo   akawuka   ddagala  \\\n",
       "0  0.003438    0.003456     0.003484    0.006438  0.011642  0.003195   \n",
       "1  0.001458    0.011342     0.013962    0.002754  0.007252  0.006362   \n",
       "2  0.002329    0.006317     0.004356    0.007500  0.003339  0.005807   \n",
       "3  0.001427    0.005265     0.014195    0.003070  0.015049  0.008330   \n",
       "4  0.002893    0.011389     0.002894    0.006736  0.005491  0.004912   \n",
       "\n",
       "   ebiwojjolo  obutungulu  \n",
       "0    0.007830    0.005407  \n",
       "1    0.003455    0.004007  \n",
       "2    0.010631    0.006139  \n",
       "3    0.003358    0.004483  \n",
       "4    0.002607    0.003242  \n",
       "\n",
       "[5 rows x 194 columns]"
      ]
     },
     "execution_count": 18,
     "metadata": {},
     "output_type": "execute_result"
    }
   ],
   "source": [
    "# Save the predictions in the required format\n",
    "for i, label in enumerate(dls.vocab):\n",
    "  ss[label] = [t[i] for t in mean]\n",
    "ss.head()"
   ]
  },
  {
   "cell_type": "code",
   "execution_count": 19,
   "metadata": {
    "colab": {},
    "colab_type": "code",
    "id": "xVQq84DPNpQO"
   },
   "outputs": [],
   "source": [
    "ss.to_csv('Submission_f.csv', index=False)"
   ]
  }
 ],
 "metadata": {
  "accelerator": "GPU",
  "colab": {
   "name": "AudioClas Starter Notebook.ipynb",
   "provenance": []
  },
  "kernelspec": {
   "display_name": "Python 3",
   "language": "python",
   "name": "python3"
  },
  "language_info": {
   "codemirror_mode": {
    "name": "ipython",
    "version": 3
   },
   "file_extension": ".py",
   "mimetype": "text/x-python",
   "name": "python",
   "nbconvert_exporter": "python",
   "pygments_lexer": "ipython3",
   "version": "3.7.4"
  },
  "widgets": {
   "application/vnd.jupyter.widget-state+json": {
    "1fcb169e865045b9beb662bd4aa10f61": {
     "model_module": "@jupyter-widgets/controls",
     "model_name": "HTMLModel",
     "state": {
      "_dom_classes": [],
      "_model_module": "@jupyter-widgets/controls",
      "_model_module_version": "1.5.0",
      "_model_name": "HTMLModel",
      "_view_count": null,
      "_view_module": "@jupyter-widgets/controls",
      "_view_module_version": "1.5.0",
      "_view_name": "HTMLView",
      "description": "",
      "description_tooltip": null,
      "layout": "IPY_MODEL_55177b5e2df7491da99e6dcfa8358687",
      "placeholder": "​",
      "style": "IPY_MODEL_98f4663fdddb48e1ad0782403946afe2",
      "value": " 44.7M/44.7M [35:32&lt;00:00, 22.0kB/s]"
     }
    },
    "3c0c6c6b27814c58832461b37075c93f": {
     "model_module": "@jupyter-widgets/controls",
     "model_name": "HBoxModel",
     "state": {
      "_dom_classes": [],
      "_model_module": "@jupyter-widgets/controls",
      "_model_module_version": "1.5.0",
      "_model_name": "HBoxModel",
      "_view_count": null,
      "_view_module": "@jupyter-widgets/controls",
      "_view_module_version": "1.5.0",
      "_view_name": "HBoxView",
      "box_style": "",
      "children": [
       "IPY_MODEL_af719989bd634e9e9f3cdd11fd509536",
       "IPY_MODEL_1fcb169e865045b9beb662bd4aa10f61"
      ],
      "layout": "IPY_MODEL_3db118e245094c37b0aaa23bd8cb3b98"
     }
    },
    "3db118e245094c37b0aaa23bd8cb3b98": {
     "model_module": "@jupyter-widgets/base",
     "model_name": "LayoutModel",
     "state": {
      "_model_module": "@jupyter-widgets/base",
      "_model_module_version": "1.2.0",
      "_model_name": "LayoutModel",
      "_view_count": null,
      "_view_module": "@jupyter-widgets/base",
      "_view_module_version": "1.2.0",
      "_view_name": "LayoutView",
      "align_content": null,
      "align_items": null,
      "align_self": null,
      "border": null,
      "bottom": null,
      "display": null,
      "flex": null,
      "flex_flow": null,
      "grid_area": null,
      "grid_auto_columns": null,
      "grid_auto_flow": null,
      "grid_auto_rows": null,
      "grid_column": null,
      "grid_gap": null,
      "grid_row": null,
      "grid_template_areas": null,
      "grid_template_columns": null,
      "grid_template_rows": null,
      "height": null,
      "justify_content": null,
      "justify_items": null,
      "left": null,
      "margin": null,
      "max_height": null,
      "max_width": null,
      "min_height": null,
      "min_width": null,
      "object_fit": null,
      "object_position": null,
      "order": null,
      "overflow": null,
      "overflow_x": null,
      "overflow_y": null,
      "padding": null,
      "right": null,
      "top": null,
      "visibility": null,
      "width": null
     }
    },
    "55177b5e2df7491da99e6dcfa8358687": {
     "model_module": "@jupyter-widgets/base",
     "model_name": "LayoutModel",
     "state": {
      "_model_module": "@jupyter-widgets/base",
      "_model_module_version": "1.2.0",
      "_model_name": "LayoutModel",
      "_view_count": null,
      "_view_module": "@jupyter-widgets/base",
      "_view_module_version": "1.2.0",
      "_view_name": "LayoutView",
      "align_content": null,
      "align_items": null,
      "align_self": null,
      "border": null,
      "bottom": null,
      "display": null,
      "flex": null,
      "flex_flow": null,
      "grid_area": null,
      "grid_auto_columns": null,
      "grid_auto_flow": null,
      "grid_auto_rows": null,
      "grid_column": null,
      "grid_gap": null,
      "grid_row": null,
      "grid_template_areas": null,
      "grid_template_columns": null,
      "grid_template_rows": null,
      "height": null,
      "justify_content": null,
      "justify_items": null,
      "left": null,
      "margin": null,
      "max_height": null,
      "max_width": null,
      "min_height": null,
      "min_width": null,
      "object_fit": null,
      "object_position": null,
      "order": null,
      "overflow": null,
      "overflow_x": null,
      "overflow_y": null,
      "padding": null,
      "right": null,
      "top": null,
      "visibility": null,
      "width": null
     }
    },
    "98f4663fdddb48e1ad0782403946afe2": {
     "model_module": "@jupyter-widgets/controls",
     "model_name": "DescriptionStyleModel",
     "state": {
      "_model_module": "@jupyter-widgets/controls",
      "_model_module_version": "1.5.0",
      "_model_name": "DescriptionStyleModel",
      "_view_count": null,
      "_view_module": "@jupyter-widgets/base",
      "_view_module_version": "1.2.0",
      "_view_name": "StyleView",
      "description_width": ""
     }
    },
    "aa187e8587b14d29be4310d33b3ac984": {
     "model_module": "@jupyter-widgets/base",
     "model_name": "LayoutModel",
     "state": {
      "_model_module": "@jupyter-widgets/base",
      "_model_module_version": "1.2.0",
      "_model_name": "LayoutModel",
      "_view_count": null,
      "_view_module": "@jupyter-widgets/base",
      "_view_module_version": "1.2.0",
      "_view_name": "LayoutView",
      "align_content": null,
      "align_items": null,
      "align_self": null,
      "border": null,
      "bottom": null,
      "display": null,
      "flex": null,
      "flex_flow": null,
      "grid_area": null,
      "grid_auto_columns": null,
      "grid_auto_flow": null,
      "grid_auto_rows": null,
      "grid_column": null,
      "grid_gap": null,
      "grid_row": null,
      "grid_template_areas": null,
      "grid_template_columns": null,
      "grid_template_rows": null,
      "height": null,
      "justify_content": null,
      "justify_items": null,
      "left": null,
      "margin": null,
      "max_height": null,
      "max_width": null,
      "min_height": null,
      "min_width": null,
      "object_fit": null,
      "object_position": null,
      "order": null,
      "overflow": null,
      "overflow_x": null,
      "overflow_y": null,
      "padding": null,
      "right": null,
      "top": null,
      "visibility": null,
      "width": null
     }
    },
    "af719989bd634e9e9f3cdd11fd509536": {
     "model_module": "@jupyter-widgets/controls",
     "model_name": "FloatProgressModel",
     "state": {
      "_dom_classes": [],
      "_model_module": "@jupyter-widgets/controls",
      "_model_module_version": "1.5.0",
      "_model_name": "FloatProgressModel",
      "_view_count": null,
      "_view_module": "@jupyter-widgets/controls",
      "_view_module_version": "1.5.0",
      "_view_name": "ProgressView",
      "bar_style": "success",
      "description": "100%",
      "description_tooltip": null,
      "layout": "IPY_MODEL_aa187e8587b14d29be4310d33b3ac984",
      "max": 46827520,
      "min": 0,
      "orientation": "horizontal",
      "style": "IPY_MODEL_cd865428ffc24395a29446e83c8cce70",
      "value": 46827520
     }
    },
    "cd865428ffc24395a29446e83c8cce70": {
     "model_module": "@jupyter-widgets/controls",
     "model_name": "ProgressStyleModel",
     "state": {
      "_model_module": "@jupyter-widgets/controls",
      "_model_module_version": "1.5.0",
      "_model_name": "ProgressStyleModel",
      "_view_count": null,
      "_view_module": "@jupyter-widgets/base",
      "_view_module_version": "1.2.0",
      "_view_name": "StyleView",
      "bar_color": null,
      "description_width": "initial"
     }
    }
   }
  }
 },
 "nbformat": 4,
 "nbformat_minor": 1
}
